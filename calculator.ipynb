{
 "cells": [
  {
   "cell_type": "code",
   "execution_count": null,
   "id": "8348d213",
   "metadata": {},
   "outputs": [],
   "source": []
  },
  {
   "cell_type": "code",
   "execution_count": null,
   "id": "cd909e78",
   "metadata": {},
   "outputs": [],
   "source": []
  },
  {
   "cell_type": "code",
   "execution_count": 3,
   "id": "04d27335",
   "metadata": {},
   "outputs": [],
   "source": []
  },
  {
   "cell_type": "code",
   "execution_count": 4,
   "id": "f6d9ea3d",
   "metadata": {},
   "outputs": [],
   "source": [
    "\n"
   ]
  },
  {
   "cell_type": "code",
   "execution_count": null,
   "id": "e0fb55b6",
   "metadata": {},
   "outputs": [],
   "source": [
    "import tkinter as tk\n",
    "from tkinter import messagebox\n",
    "\n",
    "def add_to_expression(symbol):\n",
    "    current_text = entry.get()\n",
    "    entry.delete(0, tk.END)\n",
    "    entry.insert(0, current_text + symbol)\n",
    "\n",
    "def calculate():\n",
    "    try:\n",
    "        result = str(eval(entry.get()))\n",
    "        entry.delete(0, tk.END)\n",
    "        entry.insert(0, result)\n",
    "    except Exception as e:\n",
    "        messagebox.showerror(\"Error\", \"Invalid input\")\n",
    "\n",
    "app = tk.Tk()\n",
    "app.title(\"Calculator\")\n",
    "app.geometry(\"400x600\")\n",
    "app.configure(bg=\"light gray\")\n",
    "\n",
    "# Display\n",
    "entry = tk.Entry(app, font=(\"Arial\", 24), bd=10, relief=tk.SUNKEN, justify=\"right\", bg=\"white\")\n",
    "entry.grid(row=0, column=0, columnspan=4, padx=10, pady=20, sticky=\"ew\")\n",
    "\n",
    "# Button styling\n",
    "button_font = (\"times new roman\", 18)\n",
    "button_style = {\"font\": button_font, \"bg\": \"black\", \"fg\": \"white\", \"bd\": 5, \"relief\": tk.RAISED}\n",
    "\n",
    "# Button creation\n",
    "buttons = [\n",
    "    ('7', 1, 0), ('8', 1, 1), ('9', 1, 2), ('/', 1, 3),\n",
    "    ('4', 2, 0), ('5', 2, 1), ('6', 2, 2), ('*', 2, 3),\n",
    "    ('1', 3, 0), ('2', 3, 1), ('3', 3, 2), ('-', 3, 3),\n",
    "    ('0', 4, 0), ('.', 4, 1), ('(', 4, 2), (')', 4, 3),\n",
    "    ('+', 5, 0), ('C', 5, 1), ('=', 5, 2)\n",
    "]\n",
    "\n",
    "for (text, row, col) in buttons:\n",
    "    action = lambda x=text: add_to_expression(x) if x not in ['C', '='] else (clear_screen if x == 'C' else calculate)\n",
    "    tk.Button(app, text=text, command=action, **button_style).grid(row=row, column=col, padx=5, pady=5, sticky=\"nsew\")\n",
    "\n",
    "# Special handling for the '=' button to span two columns\n",
    "tk.Button(app, text='=', command=calculate, **button_style).grid(row=5, column=2, columnspan=2, padx=5, pady=5, sticky=\"nsew\")\n",
    "\n",
    "def clear_screen():\n",
    "    entry.delete(0, tk.END)\n",
    "    \n",
    "# Make the buttons fill the cell\n",
    "for i in range(6):\n",
    "    app.grid_rowconfigure(i, weight=1)\n",
    "    app.grid_columnconfigure(i, weight=1)\n",
    "\n",
    "app.mainloop()\n"
   ]
  },
  {
   "cell_type": "code",
   "execution_count": null,
   "id": "0cb985ea",
   "metadata": {},
   "outputs": [],
   "source": []
  },
  {
   "cell_type": "code",
   "execution_count": null,
   "id": "51e8f6b4",
   "metadata": {},
   "outputs": [],
   "source": []
  },
  {
   "cell_type": "code",
   "execution_count": null,
   "id": "5b78d58b",
   "metadata": {},
   "outputs": [],
   "source": []
  }
 ],
 "metadata": {
  "kernelspec": {
   "display_name": "Python 3 (ipykernel)",
   "language": "python",
   "name": "python3"
  },
  "language_info": {
   "codemirror_mode": {
    "name": "ipython",
    "version": 3
   },
   "file_extension": ".py",
   "mimetype": "text/x-python",
   "name": "python",
   "nbconvert_exporter": "python",
   "pygments_lexer": "ipython3",
   "version": "3.9.7"
  }
 },
 "nbformat": 4,
 "nbformat_minor": 5
}
